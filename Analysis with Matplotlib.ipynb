{
 "cells": [
  {
   "cell_type": "code",
   "execution_count": 3,
   "id": "738259b6",
   "metadata": {},
   "outputs": [
    {
     "name": "stdout",
     "output_type": "stream",
     "text": [
      "Defaulting to user installation because normal site-packages is not writeable\n",
      "Requirement already satisfied: pandas in c:\\programdata\\anaconda3\\lib\\site-packages (1.4.2)\n",
      "Requirement already satisfied: python-dateutil>=2.8.1 in c:\\programdata\\anaconda3\\lib\\site-packages (from pandas) (2.8.2)\n",
      "Requirement already satisfied: numpy>=1.18.5 in c:\\programdata\\anaconda3\\lib\\site-packages (from pandas) (1.21.5)\n",
      "Requirement already satisfied: pytz>=2020.1 in c:\\programdata\\anaconda3\\lib\\site-packages (from pandas) (2021.3)\n",
      "Requirement already satisfied: six>=1.5 in c:\\programdata\\anaconda3\\lib\\site-packages (from python-dateutil>=2.8.1->pandas) (1.16.0)\n",
      "Note: you may need to restart the kernel to use updated packages.\n"
     ]
    }
   ],
   "source": [
    "pip install pandas"
   ]
  },
  {
   "cell_type": "code",
   "execution_count": 4,
   "id": "be2567fd",
   "metadata": {},
   "outputs": [],
   "source": [
    "import pandas as pd"
   ]
  },
  {
   "cell_type": "code",
   "execution_count": 5,
   "id": "a01761d5",
   "metadata": {},
   "outputs": [
    {
     "name": "stdout",
     "output_type": "stream",
     "text": [
      "Defaulting to user installation because normal site-packages is not writeableNote: you may need to restart the kernel to use updated packages.\n",
      "\n",
      "Requirement already satisfied: hypothesis in c:\\users\\hp\\appdata\\roaming\\python\\python39\\site-packages (6.57.1)\n",
      "Requirement already satisfied: sortedcontainers<3.0.0,>=2.1.0 in c:\\programdata\\anaconda3\\lib\\site-packages (from hypothesis) (2.4.0)\n",
      "Requirement already satisfied: exceptiongroup>=1.0.0 in c:\\users\\hp\\appdata\\roaming\\python\\python39\\site-packages (from hypothesis) (1.0.4)\n",
      "Requirement already satisfied: attrs>=19.2.0 in c:\\programdata\\anaconda3\\lib\\site-packages (from hypothesis) (21.4.0)\n"
     ]
    }
   ],
   "source": [
    "pip install hypothesis"
   ]
  },
  {
   "cell_type": "code",
   "execution_count": 6,
   "id": "a22c1a6b",
   "metadata": {
    "scrolled": true
   },
   "outputs": [],
   "source": [
    "#pd.test()"
   ]
  },
  {
   "cell_type": "code",
   "execution_count": 7,
   "id": "30f5422a",
   "metadata": {},
   "outputs": [],
   "source": [
    "#install numexpr\n",
    "#install bottleneck"
   ]
  },
  {
   "cell_type": "code",
   "execution_count": 8,
   "id": "73171b87",
   "metadata": {},
   "outputs": [],
   "source": [
    "#import numpy as np\n",
    "#import matplotlib.pyplot as plt\n",
    "#import seaborn as sns"
   ]
  },
  {
   "cell_type": "code",
   "execution_count": 9,
   "id": "62932ce1",
   "metadata": {},
   "outputs": [],
   "source": [
    "#%matplotlib inline"
   ]
  },
  {
   "cell_type": "code",
   "execution_count": 10,
   "id": "bca304ac",
   "metadata": {},
   "outputs": [
    {
     "data": {
      "text/html": [
       "<div>\n",
       "<style scoped>\n",
       "    .dataframe tbody tr th:only-of-type {\n",
       "        vertical-align: middle;\n",
       "    }\n",
       "\n",
       "    .dataframe tbody tr th {\n",
       "        vertical-align: top;\n",
       "    }\n",
       "\n",
       "    .dataframe thead th {\n",
       "        text-align: right;\n",
       "    }\n",
       "</style>\n",
       "<table border=\"1\" class=\"dataframe\">\n",
       "  <thead>\n",
       "    <tr style=\"text-align: right;\">\n",
       "      <th></th>\n",
       "      <th>Name</th>\n",
       "      <th>Age</th>\n",
       "      <th>Sex</th>\n",
       "    </tr>\n",
       "  </thead>\n",
       "  <tbody>\n",
       "    <tr>\n",
       "      <th>0</th>\n",
       "      <td>Bayo, Mr. Sennuga Seyi</td>\n",
       "      <td>22</td>\n",
       "      <td>Male</td>\n",
       "    </tr>\n",
       "    <tr>\n",
       "      <th>1</th>\n",
       "      <td>Kensen, DR. Sennuga Kehinde</td>\n",
       "      <td>60</td>\n",
       "      <td>Male</td>\n",
       "    </tr>\n",
       "    <tr>\n",
       "      <th>2</th>\n",
       "      <td>Seyi, Sennuga Toyin</td>\n",
       "      <td>38</td>\n",
       "      <td>Female</td>\n",
       "    </tr>\n",
       "  </tbody>\n",
       "</table>\n",
       "</div>"
      ],
      "text/plain": [
       "                          Name  Age     Sex\n",
       "0       Bayo, Mr. Sennuga Seyi   22    Male\n",
       "1  Kensen, DR. Sennuga Kehinde   60    Male\n",
       "2          Seyi, Sennuga Toyin   38  Female"
      ]
     },
     "execution_count": 10,
     "metadata": {},
     "output_type": "execute_result"
    }
   ],
   "source": [
    "df = pd.DataFrame(   #calling the DataFrame library \n",
    "{\n",
    "\"Name\": [\"Bayo, Mr. Sennuga Seyi\", #assigning name data to the table with dict\n",
    "    \"Kensen, DR. Sennuga Kehinde\",\n",
    "    \"Seyi, Sennuga Toyin\",],\n",
    "\"Age\": [22,60, 38],    #assigning age to the table\n",
    "\"Sex\": [\"Male\", \"Male\", \"Female\"], # assigning sex to each name using dict\n",
    "}\n",
    ")\n",
    "df    #calling the DataFrame function"
   ]
  },
  {
   "cell_type": "code",
   "execution_count": 11,
   "id": "7ff17dad",
   "metadata": {},
   "outputs": [
    {
     "data": {
      "text/plain": [
       "0    22\n",
       "1    60\n",
       "2    38\n",
       "Name: Age, dtype: int64"
      ]
     },
     "execution_count": 11,
     "metadata": {},
     "output_type": "execute_result"
    }
   ],
   "source": [
    "df[\"Age\"] #calls the age column data alone"
   ]
  },
  {
   "cell_type": "code",
   "execution_count": 12,
   "id": "56685754",
   "metadata": {},
   "outputs": [
    {
     "data": {
      "text/plain": [
       "60"
      ]
     },
     "execution_count": 12,
     "metadata": {},
     "output_type": "execute_result"
    }
   ],
   "source": [
    "df[\"Age\"].max()  #Knowing the max in the Age column"
   ]
  },
  {
   "cell_type": "code",
   "execution_count": 13,
   "id": "45825a6b",
   "metadata": {},
   "outputs": [
    {
     "data": {
      "text/html": [
       "<div>\n",
       "<style scoped>\n",
       "    .dataframe tbody tr th:only-of-type {\n",
       "        vertical-align: middle;\n",
       "    }\n",
       "\n",
       "    .dataframe tbody tr th {\n",
       "        vertical-align: top;\n",
       "    }\n",
       "\n",
       "    .dataframe thead th {\n",
       "        text-align: right;\n",
       "    }\n",
       "</style>\n",
       "<table border=\"1\" class=\"dataframe\">\n",
       "  <thead>\n",
       "    <tr style=\"text-align: right;\">\n",
       "      <th></th>\n",
       "      <th>Age</th>\n",
       "    </tr>\n",
       "  </thead>\n",
       "  <tbody>\n",
       "    <tr>\n",
       "      <th>count</th>\n",
       "      <td>3.000000</td>\n",
       "    </tr>\n",
       "    <tr>\n",
       "      <th>mean</th>\n",
       "      <td>40.000000</td>\n",
       "    </tr>\n",
       "    <tr>\n",
       "      <th>std</th>\n",
       "      <td>19.078784</td>\n",
       "    </tr>\n",
       "    <tr>\n",
       "      <th>min</th>\n",
       "      <td>22.000000</td>\n",
       "    </tr>\n",
       "    <tr>\n",
       "      <th>25%</th>\n",
       "      <td>30.000000</td>\n",
       "    </tr>\n",
       "    <tr>\n",
       "      <th>50%</th>\n",
       "      <td>38.000000</td>\n",
       "    </tr>\n",
       "    <tr>\n",
       "      <th>75%</th>\n",
       "      <td>49.000000</td>\n",
       "    </tr>\n",
       "    <tr>\n",
       "      <th>max</th>\n",
       "      <td>60.000000</td>\n",
       "    </tr>\n",
       "  </tbody>\n",
       "</table>\n",
       "</div>"
      ],
      "text/plain": [
       "             Age\n",
       "count   3.000000\n",
       "mean   40.000000\n",
       "std    19.078784\n",
       "min    22.000000\n",
       "25%    30.000000\n",
       "50%    38.000000\n",
       "75%    49.000000\n",
       "max    60.000000"
      ]
     },
     "execution_count": 13,
     "metadata": {},
     "output_type": "execute_result"
    }
   ],
   "source": [
    "df.describe() #describes the basic statistics of the num data"
   ]
  },
  {
   "cell_type": "code",
   "execution_count": 14,
   "id": "5e3b5b87",
   "metadata": {},
   "outputs": [
    {
     "data": {
      "text/html": [
       "<div>\n",
       "<style scoped>\n",
       "    .dataframe tbody tr th:only-of-type {\n",
       "        vertical-align: middle;\n",
       "    }\n",
       "\n",
       "    .dataframe tbody tr th {\n",
       "        vertical-align: top;\n",
       "    }\n",
       "\n",
       "    .dataframe thead th {\n",
       "        text-align: right;\n",
       "    }\n",
       "</style>\n",
       "<table border=\"1\" class=\"dataframe\">\n",
       "  <thead>\n",
       "    <tr style=\"text-align: right;\">\n",
       "      <th></th>\n",
       "      <th>#</th>\n",
       "      <th>Country,\\nOther</th>\n",
       "      <th>Total\\nCases</th>\n",
       "      <th>Total\\nDeaths</th>\n",
       "      <th>New\\nDeaths</th>\n",
       "      <th>Total\\nRecovered</th>\n",
       "      <th>Active\\nCases</th>\n",
       "      <th>Serious,\\nCritical</th>\n",
       "      <th>Tot Cases/\\n1M pop</th>\n",
       "      <th>Deaths/\\n1M pop</th>\n",
       "      <th>Total\\nTests</th>\n",
       "      <th>Tests/\\n1M pop</th>\n",
       "      <th>Population</th>\n",
       "    </tr>\n",
       "  </thead>\n",
       "  <tbody>\n",
       "    <tr>\n",
       "      <th>0</th>\n",
       "      <td>1</td>\n",
       "      <td>USA</td>\n",
       "      <td>98,166,904</td>\n",
       "      <td>1,084,282</td>\n",
       "      <td>NaN</td>\n",
       "      <td>94,962,112</td>\n",
       "      <td>2,120,510</td>\n",
       "      <td>2,970</td>\n",
       "      <td>293,206</td>\n",
       "      <td>3,239</td>\n",
       "      <td>1,118,158,870</td>\n",
       "      <td>3,339,729</td>\n",
       "      <td>334,805,269</td>\n",
       "    </tr>\n",
       "    <tr>\n",
       "      <th>1</th>\n",
       "      <td>2</td>\n",
       "      <td>India</td>\n",
       "      <td>44,587,307</td>\n",
       "      <td>528,629</td>\n",
       "      <td>NaN</td>\n",
       "      <td>44,019,095</td>\n",
       "      <td>39,583</td>\n",
       "      <td>698</td>\n",
       "      <td>31,698</td>\n",
       "      <td>376</td>\n",
       "      <td>894,416,853</td>\n",
       "      <td>635,857</td>\n",
       "      <td>1,406,631,776</td>\n",
       "    </tr>\n",
       "    <tr>\n",
       "      <th>2</th>\n",
       "      <td>3</td>\n",
       "      <td>France</td>\n",
       "      <td>35,342,950</td>\n",
       "      <td>155,078</td>\n",
       "      <td>NaN</td>\n",
       "      <td>34,527,115</td>\n",
       "      <td>660,757</td>\n",
       "      <td>869</td>\n",
       "      <td>538,892</td>\n",
       "      <td>2,365</td>\n",
       "      <td>271,490,188</td>\n",
       "      <td>4,139,547</td>\n",
       "      <td>65,584,518</td>\n",
       "    </tr>\n",
       "    <tr>\n",
       "      <th>3</th>\n",
       "      <td>4</td>\n",
       "      <td>Brazil</td>\n",
       "      <td>34,706,757</td>\n",
       "      <td>686,027</td>\n",
       "      <td>NaN</td>\n",
       "      <td>33,838,636</td>\n",
       "      <td>182,094</td>\n",
       "      <td>8,318</td>\n",
       "      <td>161,162</td>\n",
       "      <td>3,186</td>\n",
       "      <td>63,776,166</td>\n",
       "      <td>296,146</td>\n",
       "      <td>215,353,593</td>\n",
       "    </tr>\n",
       "    <tr>\n",
       "      <th>4</th>\n",
       "      <td>5</td>\n",
       "      <td>Germany</td>\n",
       "      <td>33,312,373</td>\n",
       "      <td>149,948</td>\n",
       "      <td>NaN</td>\n",
       "      <td>32,315,200</td>\n",
       "      <td>847,225</td>\n",
       "      <td>1,406</td>\n",
       "      <td>397,126</td>\n",
       "      <td>1,788</td>\n",
       "      <td>122,332,384</td>\n",
       "      <td>1,458,359</td>\n",
       "      <td>83,883,596</td>\n",
       "    </tr>\n",
       "    <tr>\n",
       "      <th>...</th>\n",
       "      <td>...</td>\n",
       "      <td>...</td>\n",
       "      <td>...</td>\n",
       "      <td>...</td>\n",
       "      <td>...</td>\n",
       "      <td>...</td>\n",
       "      <td>...</td>\n",
       "      <td>...</td>\n",
       "      <td>...</td>\n",
       "      <td>...</td>\n",
       "      <td>...</td>\n",
       "      <td>...</td>\n",
       "      <td>...</td>\n",
       "    </tr>\n",
       "    <tr>\n",
       "      <th>225</th>\n",
       "      <td>226</td>\n",
       "      <td>Niue</td>\n",
       "      <td>80</td>\n",
       "      <td>NaN</td>\n",
       "      <td>NaN</td>\n",
       "      <td>80</td>\n",
       "      <td>0</td>\n",
       "      <td>NaN</td>\n",
       "      <td>49,322</td>\n",
       "      <td>NaN</td>\n",
       "      <td>NaN</td>\n",
       "      <td>NaN</td>\n",
       "      <td>1,622</td>\n",
       "    </tr>\n",
       "    <tr>\n",
       "      <th>226</th>\n",
       "      <td>227</td>\n",
       "      <td>Vatican City</td>\n",
       "      <td>29</td>\n",
       "      <td>NaN</td>\n",
       "      <td>NaN</td>\n",
       "      <td>29</td>\n",
       "      <td>0</td>\n",
       "      <td>NaN</td>\n",
       "      <td>36,295</td>\n",
       "      <td>NaN</td>\n",
       "      <td>NaN</td>\n",
       "      <td>NaN</td>\n",
       "      <td>799</td>\n",
       "    </tr>\n",
       "    <tr>\n",
       "      <th>227</th>\n",
       "      <td>228</td>\n",
       "      <td>Tuvalu</td>\n",
       "      <td>20</td>\n",
       "      <td>NaN</td>\n",
       "      <td>NaN</td>\n",
       "      <td>NaN</td>\n",
       "      <td>20</td>\n",
       "      <td>NaN</td>\n",
       "      <td>1,658</td>\n",
       "      <td>NaN</td>\n",
       "      <td>NaN</td>\n",
       "      <td>NaN</td>\n",
       "      <td>12,066</td>\n",
       "    </tr>\n",
       "    <tr>\n",
       "      <th>228</th>\n",
       "      <td>229</td>\n",
       "      <td>Western Sahara</td>\n",
       "      <td>10</td>\n",
       "      <td>1</td>\n",
       "      <td>NaN</td>\n",
       "      <td>9</td>\n",
       "      <td>0</td>\n",
       "      <td>NaN</td>\n",
       "      <td>16</td>\n",
       "      <td>2</td>\n",
       "      <td>NaN</td>\n",
       "      <td>NaN</td>\n",
       "      <td>626,161</td>\n",
       "    </tr>\n",
       "    <tr>\n",
       "      <th>229</th>\n",
       "      <td>230</td>\n",
       "      <td>MS Zaandam</td>\n",
       "      <td>9</td>\n",
       "      <td>2</td>\n",
       "      <td>NaN</td>\n",
       "      <td>7</td>\n",
       "      <td>0</td>\n",
       "      <td>NaN</td>\n",
       "      <td>NaN</td>\n",
       "      <td>NaN</td>\n",
       "      <td>NaN</td>\n",
       "      <td>NaN</td>\n",
       "      <td>NaN</td>\n",
       "    </tr>\n",
       "  </tbody>\n",
       "</table>\n",
       "<p>230 rows × 13 columns</p>\n",
       "</div>"
      ],
      "text/plain": [
       "       # Country,\\nOther Total\\nCases Total\\nDeaths  New\\nDeaths  \\\n",
       "0      1             USA   98,166,904     1,084,282          NaN   \n",
       "1      2           India   44,587,307       528,629          NaN   \n",
       "2      3          France   35,342,950       155,078          NaN   \n",
       "3      4          Brazil   34,706,757       686,027          NaN   \n",
       "4      5         Germany   33,312,373       149,948          NaN   \n",
       "..   ...             ...          ...           ...          ...   \n",
       "225  226            Niue           80           NaN          NaN   \n",
       "226  227    Vatican City           29           NaN          NaN   \n",
       "227  228          Tuvalu           20           NaN          NaN   \n",
       "228  229  Western Sahara           10             1          NaN   \n",
       "229  230      MS Zaandam            9             2          NaN   \n",
       "\n",
       "    Total\\nRecovered Active\\nCases Serious,\\nCritical Tot Cases/\\n1M pop  \\\n",
       "0         94,962,112     2,120,510              2,970            293,206   \n",
       "1         44,019,095        39,583                698             31,698   \n",
       "2         34,527,115       660,757                869            538,892   \n",
       "3         33,838,636       182,094              8,318            161,162   \n",
       "4         32,315,200       847,225              1,406            397,126   \n",
       "..               ...           ...                ...                ...   \n",
       "225               80             0                NaN             49,322   \n",
       "226               29             0                NaN             36,295   \n",
       "227              NaN            20                NaN              1,658   \n",
       "228                9             0                NaN                 16   \n",
       "229                7             0                NaN                NaN   \n",
       "\n",
       "    Deaths/\\n1M pop   Total\\nTests Tests/\\n1M pop     Population  \n",
       "0             3,239  1,118,158,870      3,339,729    334,805,269  \n",
       "1               376    894,416,853        635,857  1,406,631,776  \n",
       "2             2,365    271,490,188      4,139,547     65,584,518  \n",
       "3             3,186     63,776,166        296,146    215,353,593  \n",
       "4             1,788    122,332,384      1,458,359     83,883,596  \n",
       "..              ...            ...            ...            ...  \n",
       "225             NaN            NaN            NaN          1,622  \n",
       "226             NaN            NaN            NaN            799  \n",
       "227             NaN            NaN            NaN         12,066  \n",
       "228               2            NaN            NaN        626,161  \n",
       "229             NaN            NaN            NaN            NaN  \n",
       "\n",
       "[230 rows x 13 columns]"
      ]
     },
     "execution_count": 14,
     "metadata": {},
     "output_type": "execute_result"
    }
   ],
   "source": [
    "corona = pd.read_csv(\"Covid Live.csv\") #read the csv file with pandas\n",
    "corona  #call the file to vi"
   ]
  },
  {
   "cell_type": "code",
   "execution_count": 12,
   "id": "dbdaabed",
   "metadata": {},
   "outputs": [
    {
     "data": {
      "text/plain": [
       "<zip at 0x139a0f73140>"
      ]
     },
     "execution_count": 12,
     "metadata": {},
     "output_type": "execute_result"
    }
   ],
   "source": [
    "characters = [\"Iron Man\", \"Spider Man\"]\n",
    "actors = [\"Seyi\", \"Sennuga\"]\n",
    "\n",
    "zip (characters,actors)"
   ]
  },
  {
   "cell_type": "code",
   "execution_count": 15,
   "id": "f33ce02d",
   "metadata": {},
   "outputs": [
    {
     "data": {
      "text/html": [
       "<div>\n",
       "<style scoped>\n",
       "    .dataframe tbody tr th:only-of-type {\n",
       "        vertical-align: middle;\n",
       "    }\n",
       "\n",
       "    .dataframe tbody tr th {\n",
       "        vertical-align: top;\n",
       "    }\n",
       "\n",
       "    .dataframe thead th {\n",
       "        text-align: right;\n",
       "    }\n",
       "</style>\n",
       "<table border=\"1\" class=\"dataframe\">\n",
       "  <thead>\n",
       "    <tr style=\"text-align: right;\">\n",
       "      <th></th>\n",
       "      <th>#</th>\n",
       "      <th>Country,\\nOther</th>\n",
       "      <th>Total\\nCases</th>\n",
       "      <th>Total\\nDeaths</th>\n",
       "      <th>New\\nDeaths</th>\n",
       "      <th>Total\\nRecovered</th>\n",
       "      <th>Active\\nCases</th>\n",
       "      <th>Serious,\\nCritical</th>\n",
       "      <th>Tot Cases/\\n1M pop</th>\n",
       "      <th>Deaths/\\n1M pop</th>\n",
       "      <th>Total\\nTests</th>\n",
       "      <th>Tests/\\n1M pop</th>\n",
       "      <th>Population</th>\n",
       "    </tr>\n",
       "  </thead>\n",
       "  <tbody>\n",
       "    <tr>\n",
       "      <th>0</th>\n",
       "      <td>1</td>\n",
       "      <td>USA</td>\n",
       "      <td>98,166,904</td>\n",
       "      <td>1,084,282</td>\n",
       "      <td>NaN</td>\n",
       "      <td>94,962,112</td>\n",
       "      <td>2,120,510</td>\n",
       "      <td>2,970</td>\n",
       "      <td>293,206</td>\n",
       "      <td>3,239</td>\n",
       "      <td>1,118,158,870</td>\n",
       "      <td>3,339,729</td>\n",
       "      <td>334,805,269</td>\n",
       "    </tr>\n",
       "    <tr>\n",
       "      <th>1</th>\n",
       "      <td>2</td>\n",
       "      <td>India</td>\n",
       "      <td>44,587,307</td>\n",
       "      <td>528,629</td>\n",
       "      <td>NaN</td>\n",
       "      <td>44,019,095</td>\n",
       "      <td>39,583</td>\n",
       "      <td>698</td>\n",
       "      <td>31,698</td>\n",
       "      <td>376</td>\n",
       "      <td>894,416,853</td>\n",
       "      <td>635,857</td>\n",
       "      <td>1,406,631,776</td>\n",
       "    </tr>\n",
       "    <tr>\n",
       "      <th>2</th>\n",
       "      <td>3</td>\n",
       "      <td>France</td>\n",
       "      <td>35,342,950</td>\n",
       "      <td>155,078</td>\n",
       "      <td>NaN</td>\n",
       "      <td>34,527,115</td>\n",
       "      <td>660,757</td>\n",
       "      <td>869</td>\n",
       "      <td>538,892</td>\n",
       "      <td>2,365</td>\n",
       "      <td>271,490,188</td>\n",
       "      <td>4,139,547</td>\n",
       "      <td>65,584,518</td>\n",
       "    </tr>\n",
       "    <tr>\n",
       "      <th>3</th>\n",
       "      <td>4</td>\n",
       "      <td>Brazil</td>\n",
       "      <td>34,706,757</td>\n",
       "      <td>686,027</td>\n",
       "      <td>NaN</td>\n",
       "      <td>33,838,636</td>\n",
       "      <td>182,094</td>\n",
       "      <td>8,318</td>\n",
       "      <td>161,162</td>\n",
       "      <td>3,186</td>\n",
       "      <td>63,776,166</td>\n",
       "      <td>296,146</td>\n",
       "      <td>215,353,593</td>\n",
       "    </tr>\n",
       "    <tr>\n",
       "      <th>4</th>\n",
       "      <td>5</td>\n",
       "      <td>Germany</td>\n",
       "      <td>33,312,373</td>\n",
       "      <td>149,948</td>\n",
       "      <td>NaN</td>\n",
       "      <td>32,315,200</td>\n",
       "      <td>847,225</td>\n",
       "      <td>1,406</td>\n",
       "      <td>397,126</td>\n",
       "      <td>1,788</td>\n",
       "      <td>122,332,384</td>\n",
       "      <td>1,458,359</td>\n",
       "      <td>83,883,596</td>\n",
       "    </tr>\n",
       "    <tr>\n",
       "      <th>5</th>\n",
       "      <td>6</td>\n",
       "      <td>S. Korea</td>\n",
       "      <td>24,769,101</td>\n",
       "      <td>28,406</td>\n",
       "      <td>42.0</td>\n",
       "      <td>24,013,461</td>\n",
       "      <td>727,234</td>\n",
       "      <td>352</td>\n",
       "      <td>482,547</td>\n",
       "      <td>553</td>\n",
       "      <td>15,804,065</td>\n",
       "      <td>307,892</td>\n",
       "      <td>51,329,899</td>\n",
       "    </tr>\n",
       "    <tr>\n",
       "      <th>6</th>\n",
       "      <td>7</td>\n",
       "      <td>UK</td>\n",
       "      <td>23,621,952</td>\n",
       "      <td>189,919</td>\n",
       "      <td>NaN</td>\n",
       "      <td>23,347,871</td>\n",
       "      <td>84,162</td>\n",
       "      <td>146</td>\n",
       "      <td>344,857</td>\n",
       "      <td>2,773</td>\n",
       "      <td>522,526,476</td>\n",
       "      <td>7,628,357</td>\n",
       "      <td>68,497,907</td>\n",
       "    </tr>\n",
       "    <tr>\n",
       "      <th>7</th>\n",
       "      <td>8</td>\n",
       "      <td>Italy</td>\n",
       "      <td>22,432,803</td>\n",
       "      <td>177,054</td>\n",
       "      <td>NaN</td>\n",
       "      <td>21,779,604</td>\n",
       "      <td>476,145</td>\n",
       "      <td>141</td>\n",
       "      <td>372,250</td>\n",
       "      <td>2,938</td>\n",
       "      <td>246,636,495</td>\n",
       "      <td>4,092,684</td>\n",
       "      <td>60,262,770</td>\n",
       "    </tr>\n",
       "  </tbody>\n",
       "</table>\n",
       "</div>"
      ],
      "text/plain": [
       "   # Country,\\nOther Total\\nCases Total\\nDeaths  New\\nDeaths Total\\nRecovered  \\\n",
       "0  1             USA   98,166,904     1,084,282          NaN       94,962,112   \n",
       "1  2           India   44,587,307       528,629          NaN       44,019,095   \n",
       "2  3          France   35,342,950       155,078          NaN       34,527,115   \n",
       "3  4          Brazil   34,706,757       686,027          NaN       33,838,636   \n",
       "4  5         Germany   33,312,373       149,948          NaN       32,315,200   \n",
       "5  6        S. Korea   24,769,101        28,406         42.0       24,013,461   \n",
       "6  7              UK   23,621,952       189,919          NaN       23,347,871   \n",
       "7  8           Italy   22,432,803       177,054          NaN       21,779,604   \n",
       "\n",
       "  Active\\nCases Serious,\\nCritical Tot Cases/\\n1M pop Deaths/\\n1M pop  \\\n",
       "0     2,120,510              2,970            293,206           3,239   \n",
       "1        39,583                698             31,698             376   \n",
       "2       660,757                869            538,892           2,365   \n",
       "3       182,094              8,318            161,162           3,186   \n",
       "4       847,225              1,406            397,126           1,788   \n",
       "5       727,234                352            482,547             553   \n",
       "6        84,162                146            344,857           2,773   \n",
       "7       476,145                141            372,250           2,938   \n",
       "\n",
       "    Total\\nTests Tests/\\n1M pop     Population  \n",
       "0  1,118,158,870      3,339,729    334,805,269  \n",
       "1    894,416,853        635,857  1,406,631,776  \n",
       "2    271,490,188      4,139,547     65,584,518  \n",
       "3     63,776,166        296,146    215,353,593  \n",
       "4    122,332,384      1,458,359     83,883,596  \n",
       "5     15,804,065        307,892     51,329,899  \n",
       "6    522,526,476      7,628,357     68,497,907  \n",
       "7    246,636,495      4,092,684     60,262,770  "
      ]
     },
     "execution_count": 15,
     "metadata": {},
     "output_type": "execute_result"
    }
   ],
   "source": [
    "corona.head(8)  #list the first 8 headers"
   ]
  },
  {
   "cell_type": "code",
   "execution_count": 16,
   "id": "71ec0b77",
   "metadata": {},
   "outputs": [
    {
     "data": {
      "text/html": [
       "<div>\n",
       "<style scoped>\n",
       "    .dataframe tbody tr th:only-of-type {\n",
       "        vertical-align: middle;\n",
       "    }\n",
       "\n",
       "    .dataframe tbody tr th {\n",
       "        vertical-align: top;\n",
       "    }\n",
       "\n",
       "    .dataframe thead th {\n",
       "        text-align: right;\n",
       "    }\n",
       "</style>\n",
       "<table border=\"1\" class=\"dataframe\">\n",
       "  <thead>\n",
       "    <tr style=\"text-align: right;\">\n",
       "      <th></th>\n",
       "      <th>#</th>\n",
       "      <th>Country,\\nOther</th>\n",
       "      <th>Total\\nCases</th>\n",
       "      <th>Total\\nDeaths</th>\n",
       "      <th>New\\nDeaths</th>\n",
       "      <th>Total\\nRecovered</th>\n",
       "      <th>Active\\nCases</th>\n",
       "      <th>Serious,\\nCritical</th>\n",
       "      <th>Tot Cases/\\n1M pop</th>\n",
       "      <th>Deaths/\\n1M pop</th>\n",
       "      <th>Total\\nTests</th>\n",
       "      <th>Tests/\\n1M pop</th>\n",
       "      <th>Population</th>\n",
       "    </tr>\n",
       "  </thead>\n",
       "  <tbody>\n",
       "    <tr>\n",
       "      <th>222</th>\n",
       "      <td>223</td>\n",
       "      <td>Macao</td>\n",
       "      <td>793</td>\n",
       "      <td>6</td>\n",
       "      <td>NaN</td>\n",
       "      <td>787</td>\n",
       "      <td>0</td>\n",
       "      <td>NaN</td>\n",
       "      <td>1,188</td>\n",
       "      <td>9</td>\n",
       "      <td>7,850</td>\n",
       "      <td>11,760</td>\n",
       "      <td>667,490</td>\n",
       "    </tr>\n",
       "    <tr>\n",
       "      <th>223</th>\n",
       "      <td>224</td>\n",
       "      <td>Wallis and Futuna</td>\n",
       "      <td>761</td>\n",
       "      <td>7</td>\n",
       "      <td>NaN</td>\n",
       "      <td>438</td>\n",
       "      <td>316</td>\n",
       "      <td>NaN</td>\n",
       "      <td>69,295</td>\n",
       "      <td>637</td>\n",
       "      <td>20,508</td>\n",
       "      <td>1,867,419</td>\n",
       "      <td>10,982</td>\n",
       "    </tr>\n",
       "    <tr>\n",
       "      <th>224</th>\n",
       "      <td>225</td>\n",
       "      <td>Diamond Princess</td>\n",
       "      <td>712</td>\n",
       "      <td>13</td>\n",
       "      <td>NaN</td>\n",
       "      <td>699</td>\n",
       "      <td>0</td>\n",
       "      <td>NaN</td>\n",
       "      <td>NaN</td>\n",
       "      <td>NaN</td>\n",
       "      <td>NaN</td>\n",
       "      <td>NaN</td>\n",
       "      <td>NaN</td>\n",
       "    </tr>\n",
       "    <tr>\n",
       "      <th>225</th>\n",
       "      <td>226</td>\n",
       "      <td>Niue</td>\n",
       "      <td>80</td>\n",
       "      <td>NaN</td>\n",
       "      <td>NaN</td>\n",
       "      <td>80</td>\n",
       "      <td>0</td>\n",
       "      <td>NaN</td>\n",
       "      <td>49,322</td>\n",
       "      <td>NaN</td>\n",
       "      <td>NaN</td>\n",
       "      <td>NaN</td>\n",
       "      <td>1,622</td>\n",
       "    </tr>\n",
       "    <tr>\n",
       "      <th>226</th>\n",
       "      <td>227</td>\n",
       "      <td>Vatican City</td>\n",
       "      <td>29</td>\n",
       "      <td>NaN</td>\n",
       "      <td>NaN</td>\n",
       "      <td>29</td>\n",
       "      <td>0</td>\n",
       "      <td>NaN</td>\n",
       "      <td>36,295</td>\n",
       "      <td>NaN</td>\n",
       "      <td>NaN</td>\n",
       "      <td>NaN</td>\n",
       "      <td>799</td>\n",
       "    </tr>\n",
       "    <tr>\n",
       "      <th>227</th>\n",
       "      <td>228</td>\n",
       "      <td>Tuvalu</td>\n",
       "      <td>20</td>\n",
       "      <td>NaN</td>\n",
       "      <td>NaN</td>\n",
       "      <td>NaN</td>\n",
       "      <td>20</td>\n",
       "      <td>NaN</td>\n",
       "      <td>1,658</td>\n",
       "      <td>NaN</td>\n",
       "      <td>NaN</td>\n",
       "      <td>NaN</td>\n",
       "      <td>12,066</td>\n",
       "    </tr>\n",
       "    <tr>\n",
       "      <th>228</th>\n",
       "      <td>229</td>\n",
       "      <td>Western Sahara</td>\n",
       "      <td>10</td>\n",
       "      <td>1</td>\n",
       "      <td>NaN</td>\n",
       "      <td>9</td>\n",
       "      <td>0</td>\n",
       "      <td>NaN</td>\n",
       "      <td>16</td>\n",
       "      <td>2</td>\n",
       "      <td>NaN</td>\n",
       "      <td>NaN</td>\n",
       "      <td>626,161</td>\n",
       "    </tr>\n",
       "    <tr>\n",
       "      <th>229</th>\n",
       "      <td>230</td>\n",
       "      <td>MS Zaandam</td>\n",
       "      <td>9</td>\n",
       "      <td>2</td>\n",
       "      <td>NaN</td>\n",
       "      <td>7</td>\n",
       "      <td>0</td>\n",
       "      <td>NaN</td>\n",
       "      <td>NaN</td>\n",
       "      <td>NaN</td>\n",
       "      <td>NaN</td>\n",
       "      <td>NaN</td>\n",
       "      <td>NaN</td>\n",
       "    </tr>\n",
       "  </tbody>\n",
       "</table>\n",
       "</div>"
      ],
      "text/plain": [
       "       #    Country,\\nOther Total\\nCases Total\\nDeaths  New\\nDeaths  \\\n",
       "222  223              Macao          793             6          NaN   \n",
       "223  224  Wallis and Futuna          761             7          NaN   \n",
       "224  225   Diamond Princess          712            13          NaN   \n",
       "225  226               Niue           80           NaN          NaN   \n",
       "226  227       Vatican City           29           NaN          NaN   \n",
       "227  228             Tuvalu           20           NaN          NaN   \n",
       "228  229     Western Sahara           10             1          NaN   \n",
       "229  230         MS Zaandam            9             2          NaN   \n",
       "\n",
       "    Total\\nRecovered Active\\nCases Serious,\\nCritical Tot Cases/\\n1M pop  \\\n",
       "222              787             0                NaN              1,188   \n",
       "223              438           316                NaN             69,295   \n",
       "224              699             0                NaN                NaN   \n",
       "225               80             0                NaN             49,322   \n",
       "226               29             0                NaN             36,295   \n",
       "227              NaN            20                NaN              1,658   \n",
       "228                9             0                NaN                 16   \n",
       "229                7             0                NaN                NaN   \n",
       "\n",
       "    Deaths/\\n1M pop Total\\nTests Tests/\\n1M pop Population  \n",
       "222               9        7,850         11,760    667,490  \n",
       "223             637       20,508      1,867,419     10,982  \n",
       "224             NaN          NaN            NaN        NaN  \n",
       "225             NaN          NaN            NaN      1,622  \n",
       "226             NaN          NaN            NaN        799  \n",
       "227             NaN          NaN            NaN     12,066  \n",
       "228               2          NaN            NaN    626,161  \n",
       "229             NaN          NaN            NaN        NaN  "
      ]
     },
     "execution_count": 16,
     "metadata": {},
     "output_type": "execute_result"
    }
   ],
   "source": [
    "corona.tail(8)"
   ]
  },
  {
   "cell_type": "code",
   "execution_count": 17,
   "id": "60128773",
   "metadata": {},
   "outputs": [
    {
     "data": {
      "text/plain": [
       "#                       int64\n",
       "Country,\\nOther        object\n",
       "Total\\nCases           object\n",
       "Total\\nDeaths          object\n",
       "New\\nDeaths           float64\n",
       "Total\\nRecovered       object\n",
       "Active\\nCases          object\n",
       "Serious,\\nCritical     object\n",
       "Tot Cases/\\n1M pop     object\n",
       "Deaths/\\n1M pop        object\n",
       "Total\\nTests           object\n",
       "Tests/\\n1M pop         object\n",
       "Population             object\n",
       "dtype: object"
      ]
     },
     "execution_count": 17,
     "metadata": {},
     "output_type": "execute_result"
    }
   ],
   "source": [
    "corona.dtypes"
   ]
  },
  {
   "cell_type": "code",
   "execution_count": null,
   "id": "5d7311b8",
   "metadata": {},
   "outputs": [],
   "source": [
    "corona.to_excel(\"coronA.xlsx\", sheet_name=\"#\", index=False) #The to_excel() method stores the data as an excel file\n",
    "#sheet_name is patient instead of sheet1\n",
    "#by setting index=False the row index labels are not saved in d spreadsheet.\n",
    "corona=pd.read_excel(\"coronA.xlsx\", sheet_name=\"#\")\n",
    "#the read_excel () will reload data to a DataFrame\n",
    "corona.head() #Show the top list\n"
   ]
  },
  {
   "cell_type": "code",
   "execution_count": null,
   "id": "1ebf24f1",
   "metadata": {},
   "outputs": [],
   "source": [
    "corona.info()"
   ]
  },
  {
   "cell_type": "code",
   "execution_count": null,
   "id": "abd7ae25",
   "metadata": {},
   "outputs": [],
   "source": [
    "df[\"Age\"].shape  #shows the no of rows Age has"
   ]
  },
  {
   "cell_type": "code",
   "execution_count": null,
   "id": "50ee9743",
   "metadata": {},
   "outputs": [],
   "source": [
    "age_sex = df[[\"Age\", \"Sex\"]] #To select multiple columns, use a list of column names within the selection brackets [].\n",
    "age_sex.head()  #shows the age and sex available in the data\n",
    "#age_sex    #another method to call it\n",
    "\n",
    "\n",
    "\n",
    "#NOTE: The inner square brackets define a Python list with column names, whereas the outer brackets are used to select\n",
    "#the data from a pandas DataFrame as seen in the previous example"
   ]
  },
  {
   "cell_type": "code",
   "execution_count": null,
   "id": "c8cdb34a",
   "metadata": {},
   "outputs": [],
   "source": [
    "df[[\"Age\", \"Sex\"]].shape  #remember a DataFrame is 2-dimensional with a row and column dimension"
   ]
  },
  {
   "cell_type": "code",
   "execution_count": null,
   "id": "a908ca47",
   "metadata": {},
   "outputs": [],
   "source": [
    "above_35 = df[df[\"Age\"] > 35] #list data of people who are more than 35years of age\n",
    "above_35  #calls the function"
   ]
  },
  {
   "cell_type": "code",
   "execution_count": null,
   "id": "cd0db341",
   "metadata": {},
   "outputs": [],
   "source": [
    "df[\"Age\"] > 35"
   ]
  },
  {
   "cell_type": "code",
   "execution_count": null,
   "id": "93f8776c",
   "metadata": {
    "scrolled": true
   },
   "outputs": [],
   "source": [
    "Class_23 = corona[corona[\"Serious,\\nCritical\"].isin([353, 146])] # checks for which rows the Pclass column is either 353 or 146.\n",
    "Class_23.head()"
   ]
  },
  {
   "cell_type": "code",
   "execution_count": null,
   "id": "4472f6db",
   "metadata": {
    "scrolled": false
   },
   "outputs": [],
   "source": [
    "Class_24 = corona[(corona[\"Active\\nCases\"] == 39583) | (corona[\"Active\\nCases\"] == 660757)]\n",
    "Class_24.head()\n",
    "#NOTE: When combining multiple conditional statements, each condition must be surrounded by parentheses ().\n",
    "#Moreover, you can not use or/and but need to use the or operator | and the and operator &.\n"
   ]
  },
  {
   "cell_type": "code",
   "execution_count": null,
   "id": "d29bbfdc",
   "metadata": {},
   "outputs": [],
   "source": [
    "Class_25 = df[(df[\"Age\"] == 38) | (df[\"Age\"] <= 60)]\n",
    "Class_25.head()"
   ]
  },
  {
   "cell_type": "code",
   "execution_count": null,
   "id": "1cfb0bfd",
   "metadata": {},
   "outputs": [],
   "source": [
    "import seaborn as sns\n",
    "import numpy as np"
   ]
  },
  {
   "cell_type": "code",
   "execution_count": null,
   "id": "137dbc64",
   "metadata": {},
   "outputs": [],
   "source": [
    "%matplotlib inline\n",
    "#allows us to pplot chart within our notebook"
   ]
  },
  {
   "cell_type": "code",
   "execution_count": null,
   "id": "c861b15f",
   "metadata": {},
   "outputs": [],
   "source": [
    "#Facet Grid\n",
    "g=sns.FacetGrid(data=corona, col='Total\\nDeaths', row='Population')\n",
    "#this has divided the 3 argument up, rows and column are Total\\nDeaths and Population,\n",
    "#and you want to see what is actually being displayed\n",
    "g.map(sns.distplot,'Total\\nDeaths')"
   ]
  },
  {
   "cell_type": "code",
   "execution_count": 1,
   "id": "1b2b4932",
   "metadata": {},
   "outputs": [
    {
     "data": {
      "text/plain": [
       "13"
      ]
     },
     "execution_count": 1,
     "metadata": {},
     "output_type": "execute_result"
    }
   ],
   "source": [
    "num_list = [21,13,19,3,11,5,18]\n",
    "num_list.sort()\n",
    "num_list[len(num_list) //2 ]"
   ]
  },
  {
   "cell_type": "code",
   "execution_count": 3,
   "id": "f8daaa54",
   "metadata": {},
   "outputs": [
    {
     "data": {
      "text/plain": [
       "[10, 9, 8, 7, 6, 5, 4, 3, 2, 1]"
      ]
     },
     "execution_count": 3,
     "metadata": {},
     "output_type": "execute_result"
    }
   ],
   "source": [
    "list(reversed(range(1,11)))"
   ]
  },
  {
   "cell_type": "code",
   "execution_count": 5,
   "id": "db267a27",
   "metadata": {},
   "outputs": [
    {
     "name": "stdout",
     "output_type": "stream",
     "text": [
      "1024.0\n"
     ]
    }
   ],
   "source": [
    "import math\n",
    "print(math.pow(2,10))"
   ]
  },
  {
   "cell_type": "code",
   "execution_count": 6,
   "id": "187a6a7b",
   "metadata": {},
   "outputs": [
    {
     "name": "stdout",
     "output_type": "stream",
     "text": [
      "2\n",
      "4\n",
      "8\n",
      "16\n",
      "32\n",
      "64\n",
      "128\n",
      "256\n",
      "512\n"
     ]
    }
   ],
   "source": [
    "y=1\n",
    "for i in range(1,10):\n",
    "    y=y*2\n",
    "    print(y)"
   ]
  },
  {
   "cell_type": "code",
   "execution_count": 8,
   "id": "bb34cba8",
   "metadata": {},
   "outputs": [
    {
     "data": {
      "text/plain": [
       "1024"
      ]
     },
     "execution_count": 8,
     "metadata": {},
     "output_type": "execute_result"
    }
   ],
   "source": [
    "2**10"
   ]
  },
  {
   "cell_type": "code",
   "execution_count": 8,
   "id": "53587ee3",
   "metadata": {},
   "outputs": [
    {
     "ename": "NameError",
     "evalue": "name 'a' is not defined",
     "output_type": "error",
     "traceback": [
      "\u001b[1;31m---------------------------------------------------------------------------\u001b[0m",
      "\u001b[1;31mNameError\u001b[0m                                 Traceback (most recent call last)",
      "Input \u001b[1;32mIn [8]\u001b[0m, in \u001b[0;36m<cell line: 3>\u001b[1;34m()\u001b[0m\n\u001b[0;32m      1\u001b[0m \u001b[38;5;28;01mdef\u001b[39;00m \u001b[38;5;21mjaccard\u001b[39m(a,b):\n\u001b[0;32m      2\u001b[0m     \u001b[38;5;28;01mreturn\u001b[39;00m (\u001b[38;5;241m10\u001b[39m,\u001b[38;5;241m2\u001b[39m)\n\u001b[1;32m----> 3\u001b[0m \u001b[43ma\u001b[49m\u001b[38;5;241m.\u001b[39mintersection(b)\u001b[38;5;241m/\u001b[39ma\u001b[38;5;241m.\u001b[39munion(b)\n\u001b[0;32m      4\u001b[0m jaccard(a,b)\n",
      "\u001b[1;31mNameError\u001b[0m: name 'a' is not defined"
     ]
    }
   ],
   "source": [
    "def jaccard(a,b):\n",
    "    a=10\n",
    "    b=2\n",
    "    return \n",
    "a.intersection(b)/a.union(b)\n",
    "jaccard(a,b)"
   ]
  },
  {
   "cell_type": "code",
   "execution_count": 13,
   "id": "dd202852",
   "metadata": {},
   "outputs": [
    {
     "name": "stdout",
     "output_type": "stream",
     "text": [
      "A\n"
     ]
    }
   ],
   "source": [
    "x=18\n",
    "if x > 15:\n",
    "    if x > 15:\n",
    "        print ('A')\n",
    "    else:\n",
    "        print('B')\n",
    "else:\n",
    "    print('C')"
   ]
  },
  {
   "cell_type": "code",
   "execution_count": 15,
   "id": "2659e085",
   "metadata": {},
   "outputs": [
    {
     "data": {
      "text/plain": [
       "{2: [1],\n",
       " 3: [1],\n",
       " 4: [1, 2],\n",
       " 5: [1],\n",
       " 6: [1, 2, 3],\n",
       " 7: [1],\n",
       " 8: [1, 2, 4],\n",
       " 9: [1, 3],\n",
       " 10: [1, 2, 5],\n",
       " 11: [1],\n",
       " 12: [1, 2, 3, 4, 6],\n",
       " 13: [1],\n",
       " 14: [1, 2, 7],\n",
       " 15: [1, 3, 5],\n",
       " 16: [1, 2, 4, 8],\n",
       " 17: [1],\n",
       " 18: [1, 2, 3, 6, 9],\n",
       " 19: [1],\n",
       " 20: [1, 2, 4, 5, 10],\n",
       " 21: [1, 3, 7],\n",
       " 22: [1, 2, 11],\n",
       " 23: [1],\n",
       " 24: [1, 2, 3, 4, 6, 8, 12],\n",
       " 25: [1, 5],\n",
       " 26: [1, 2, 13],\n",
       " 27: [1, 3, 9],\n",
       " 28: [1, 2, 4, 7, 14],\n",
       " 29: [1],\n",
       " 30: [1, 2, 3, 5, 6, 10, 15],\n",
       " 31: [1],\n",
       " 32: [1, 2, 4, 8, 16],\n",
       " 33: [1, 3, 11],\n",
       " 34: [1, 2, 17],\n",
       " 35: [1, 5, 7],\n",
       " 36: [1, 2, 3, 4, 6, 9, 12, 18],\n",
       " 37: [1],\n",
       " 38: [1, 2, 19],\n",
       " 39: [1, 3, 13],\n",
       " 40: [1, 2, 4, 5, 8, 10, 20],\n",
       " 41: [1],\n",
       " 42: [1, 2, 3, 6, 7, 14, 21],\n",
       " 43: [1],\n",
       " 44: [1, 2, 4, 11, 22],\n",
       " 45: [1, 3, 5, 9, 15],\n",
       " 46: [1, 2, 23],\n",
       " 47: [1],\n",
       " 48: [1, 2, 3, 4, 6, 8, 12, 16, 24],\n",
       " 49: [1, 7],\n",
       " 50: [1, 2, 5, 10, 25],\n",
       " 51: [1, 3, 17],\n",
       " 52: [1, 2, 4, 13, 26],\n",
       " 53: [1],\n",
       " 54: [1, 2, 3, 6, 9, 18, 27],\n",
       " 55: [1, 5, 11],\n",
       " 56: [1, 2, 4, 7, 8, 14, 28],\n",
       " 57: [1, 3, 19],\n",
       " 58: [1, 2, 29],\n",
       " 59: [1],\n",
       " 60: [1, 2, 3, 4, 5, 6, 10, 12, 15, 20, 30],\n",
       " 61: [1],\n",
       " 62: [1, 2, 31],\n",
       " 63: [1, 3, 7, 9, 21],\n",
       " 64: [1, 2, 4, 8, 16, 32],\n",
       " 65: [1, 5, 13],\n",
       " 66: [1, 2, 3, 6, 11, 22, 33],\n",
       " 67: [1],\n",
       " 68: [1, 2, 4, 17, 34],\n",
       " 69: [1, 3, 23],\n",
       " 70: [1, 2, 5, 7, 10, 14, 35],\n",
       " 71: [1],\n",
       " 72: [1, 2, 3, 4, 6, 8, 9, 12, 18, 24, 36],\n",
       " 73: [1],\n",
       " 74: [1, 2, 37],\n",
       " 75: [1, 3, 5, 15, 25],\n",
       " 76: [1, 2, 4, 19, 38],\n",
       " 77: [1, 7, 11],\n",
       " 78: [1, 2, 3, 6, 13, 26, 39],\n",
       " 79: [1],\n",
       " 80: [1, 2, 4, 5, 8, 10, 16, 20, 40],\n",
       " 81: [1, 3, 9, 27],\n",
       " 82: [1, 2, 41],\n",
       " 83: [1],\n",
       " 84: [1, 2, 3, 4, 6, 7, 12, 14, 21, 28, 42],\n",
       " 85: [1, 5, 17],\n",
       " 86: [1, 2, 43],\n",
       " 87: [1, 3, 29],\n",
       " 88: [1, 2, 4, 8, 11, 22, 44],\n",
       " 89: [1],\n",
       " 90: [1, 2, 3, 5, 6, 9, 10, 15, 18, 30, 45],\n",
       " 91: [1, 7, 13],\n",
       " 92: [1, 2, 4, 23, 46],\n",
       " 93: [1, 3, 31],\n",
       " 94: [1, 2, 47],\n",
       " 95: [1, 5, 19],\n",
       " 96: [1, 2, 3, 4, 6, 8, 12, 16, 24, 32, 48],\n",
       " 97: [1],\n",
       " 98: [1, 2, 7, 14, 49],\n",
       " 99: [1, 3, 9, 11, 33]}"
      ]
     },
     "execution_count": 15,
     "metadata": {},
     "output_type": "execute_result"
    }
   ],
   "source": [
    "{x: [y for y in range(1,x) if x %y ==0] for x in range(2,100)}"
   ]
  },
  {
   "cell_type": "code",
   "execution_count": 6,
   "id": "92923164",
   "metadata": {},
   "outputs": [
    {
     "data": {
      "text/plain": [
       "('Seyi', 'How are you!')"
      ]
     },
     "execution_count": 6,
     "metadata": {},
     "output_type": "execute_result"
    }
   ],
   "source": [
    "name= ('seyi')\n",
    "def be_friendly(name, greet ='How are you!'):\n",
    "    return ('Seyi', greet)\n",
    "be_friendly(name)"
   ]
  },
  {
   "cell_type": "code",
   "execution_count": null,
   "id": "6b28fc6c",
   "metadata": {},
   "outputs": [],
   "source": []
  }
 ],
 "metadata": {
  "kernelspec": {
   "display_name": "Python 3 (ipykernel)",
   "language": "python",
   "name": "python3"
  },
  "language_info": {
   "codemirror_mode": {
    "name": "ipython",
    "version": 3
   },
   "file_extension": ".py",
   "mimetype": "text/x-python",
   "name": "python",
   "nbconvert_exporter": "python",
   "pygments_lexer": "ipython3",
   "version": "3.9.12"
  }
 },
 "nbformat": 4,
 "nbformat_minor": 5
}
